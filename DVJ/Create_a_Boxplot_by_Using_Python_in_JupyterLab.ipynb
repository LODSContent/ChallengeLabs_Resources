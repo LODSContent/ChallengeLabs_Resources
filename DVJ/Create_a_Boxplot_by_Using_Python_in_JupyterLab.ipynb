{
 "cells": [
  {
   "cell_type": "markdown",
   "id": "d8005052-e58b-4809-b3f8-f138b08a96e7",
   "metadata": {},
   "source": [
    "# Create a Boxplot by Using Python in JupyterLab"
   ]
  },
  {
   "cell_type": "code",
   "execution_count": 1,
   "id": "fbfb2294-4a16-4025-91c0-c58cdb820289",
   "metadata": {},
   "outputs": [],
   "source": [
    "from IPython.core.interactiveshell import InteractiveShell\n",
    "InteractiveShell.ast_node_interactivity = \"all\"\n",
    "\n",
    "import warnings\n",
    "warnings.filterwarnings('ignore')     # To suppress all the warnings in the notebook."
   ]
  }
 ],
 "metadata": {
  "kernelspec": {
   "display_name": "Python 3 (ipykernel)",
   "language": "python",
   "name": "python3"
  },
  "language_info": {
   "codemirror_mode": {
    "name": "ipython",
    "version": 3
   },
   "file_extension": ".py",
   "mimetype": "text/x-python",
   "name": "python",
   "nbconvert_exporter": "python",
   "pygments_lexer": "ipython3",
   "version": "3.9.5"
  }
 },
 "nbformat": 4,
 "nbformat_minor": 5
}